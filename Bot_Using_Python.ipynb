{
  "nbformat": 4,
  "nbformat_minor": 0,
  "metadata": {
    "colab": {
      "provenance": [],
      "authorship_tag": "ABX9TyNLoLmgEBzEgRj/a3Bx7i1F",
      "include_colab_link": true
    },
    "kernelspec": {
      "name": "python3",
      "display_name": "Python 3"
    },
    "language_info": {
      "name": "python"
    }
  },
  "cells": [
    {
      "cell_type": "markdown",
      "metadata": {
        "id": "view-in-github",
        "colab_type": "text"
      },
      "source": [
        "<a href=\"https://colab.research.google.com/github/Danhh-zk/Telegram_Bot/blob/main/Bot_Using_Python.ipynb\" target=\"_parent\"><img src=\"https://colab.research.google.com/assets/colab-badge.svg\" alt=\"Open In Colab\"/></a>"
      ]
    },
    {
      "cell_type": "markdown",
      "source": [
        "#import"
      ],
      "metadata": {
        "id": "Qj-GLUDjnYcZ"
      }
    },
    {
      "cell_type": "code",
      "execution_count": null,
      "metadata": {
        "colab": {
          "base_uri": "https://localhost:8080/"
        },
        "id": "bHs0lscuhrNi",
        "outputId": "d60615dc-4845-474b-977b-24268ed56771"
      },
      "outputs": [
        {
          "output_type": "stream",
          "name": "stdout",
          "text": [
            "Requirement already satisfied: pyTelegramBotAPI in /usr/local/lib/python3.10/dist-packages (4.15.4)\n",
            "Requirement already satisfied: requests in /usr/local/lib/python3.10/dist-packages (from pyTelegramBotAPI) (2.31.0)\n",
            "Requirement already satisfied: charset-normalizer<4,>=2 in /usr/local/lib/python3.10/dist-packages (from requests->pyTelegramBotAPI) (3.3.2)\n",
            "Requirement already satisfied: idna<4,>=2.5 in /usr/local/lib/python3.10/dist-packages (from requests->pyTelegramBotAPI) (3.6)\n",
            "Requirement already satisfied: urllib3<3,>=1.21.1 in /usr/local/lib/python3.10/dist-packages (from requests->pyTelegramBotAPI) (2.0.7)\n",
            "Requirement already satisfied: certifi>=2017.4.17 in /usr/local/lib/python3.10/dist-packages (from requests->pyTelegramBotAPI) (2024.2.2)\n"
          ]
        }
      ],
      "source": [
        "!pip install pyTelegramBotAPI\n",
        "import telebot"
      ]
    },
    {
      "cell_type": "markdown",
      "source": [
        "#Bot 1"
      ],
      "metadata": {
        "id": "OAQlYbaPnVUp"
      }
    },
    {
      "cell_type": "code",
      "source": [
        "bot = telebot.TeleBot(\"6781106291:AAE1zQkbzfbRakVM4s4KVF5E_Pvo7ezfLDA\")"
      ],
      "metadata": {
        "id": "lY6U6RAmh0zV"
      },
      "execution_count": null,
      "outputs": []
    },
    {
      "cell_type": "code",
      "source": [
        "@bot.message_handler(command=['Start'])\n",
        "def send_welcome(message):\n",
        "  bot.reply_to(message,'hello world')\n",
        "\n",
        "bot.infinity_polling()"
      ],
      "metadata": {
        "id": "EzX9dAoujlTN"
      },
      "execution_count": null,
      "outputs": []
    },
    {
      "cell_type": "markdown",
      "source": [
        "#Bot 2"
      ],
      "metadata": {
        "id": "lsHSmgbnlrO8"
      }
    },
    {
      "cell_type": "code",
      "source": [
        "bot = telebot.TeleBot(\"6781106291:AAE1zQkbzfbRakVM4s4KVF5E_Pvo7ezfLDA\")\n",
        "\n",
        "@bot.message_handler(commands=['start'])\n",
        "def send_welcome(message):\n",
        "    bot.reply_to(message, \"Hello World!\")\n",
        "\n",
        "@bot.message_handler(content_types=\"text\")\n",
        "def reply(message):\n",
        "    if(message.text == \"How are you?\"):\n",
        "        bot.send_message(message.from_user.id, \"I am fine, thanks for asking\")\n",
        "    elif(message.text==\"What's your name?\"):\n",
        "        bot.send_message(message.from_user.id, \"my name is Danah Bot\")\n",
        "    elif(message.text == \"How old are you?\"):\n",
        "        bot.send_message(message.from_user.id, \"I was created one year ago by AUIN0\")\n",
        "    else:\n",
        "        bot.send_message(message.from_user.id, \"I didn't understand, please repeat your question\")\n",
        "\n",
        "bot.infinity_polling()"
      ],
      "metadata": {
        "id": "cTZxlS6Nl4dk"
      },
      "execution_count": null,
      "outputs": []
    },
    {
      "cell_type": "markdown",
      "source": [
        "#Bot 3"
      ],
      "metadata": {
        "id": "BKwK3d6EwqPw"
      }
    },
    {
      "cell_type": "code",
      "source": [
        "@bot.message_handler(commands=['start'])\n",
        "def welcome(message):\n",
        "    bot.reply_to(message, f'Hello {message.from_user.username}, welcome to The Useful bot!')\n",
        "\n",
        "@bot.message_handler(content_types='text')\n",
        "def func(message):\n",
        "    if(message.text == 'image'):\n",
        "        bot.send_photo(message.chat.id, photo=open(r\"Media\\useful\\pic.png\", \"rb\"))\n",
        "    elif(message.text == 'video'):\n",
        "        bot.send_video(message.chat.id, video=open(r\"Media\\useful\\vid.mp4\", \"rb\"))\n",
        "    elif(message.text == 'text'):\n",
        "        bot.send_message(message.chat.id, \"This is how you send a text:\")\n",
        "        bot.send_message(message.chat.id, \"bot.send_message(message.from_user.id, 'PUT YOUR TEXT HERE')\")\n",
        "    else:\n",
        "        bot.send_message(message.chat.id, \"I didn't understand, please repeat your question\")\n",
        "\n",
        "bot.infinity_polling()"
      ],
      "metadata": {
        "id": "08XhXliVsx0l"
      },
      "execution_count": null,
      "outputs": []
    },
    {
      "cell_type": "markdown",
      "source": [
        "#Bot 4"
      ],
      "metadata": {
        "id": "iXvAx1FEDXko"
      }
    },
    {
      "cell_type": "code",
      "source": [
        "import telebot\n",
        "from telebot import types\n",
        "\n",
        "bot = telebot.TeleBot()\n",
        "\n",
        "def us(id):\n",
        "bot.send_message(id, \"من نحن؟\")\n",
        "bot.send_message(id, \"نحن محمد الحاجي وهيا الربيع طلاب بالصف الثاني متوسط ونحن طلاب من معسكر مستقبل الذكاء الإصطناعي مسار برمجة بوتات التيلقرام🤖\")\n",
        "bot.send_photo(id, photo=open(r\"/content/Media/Future_of_AI/Mohammed.png\", \"rb\"))\n",
        "bot.send_photo(id, photo=open(r\"/content/Media/Future_of_AI/Haya.png\", \"rb\"))\n",
        "\n",
        "def socials(id):\n",
        " key = types.InlineKeyboardMarkup()\n",
        " instaButton = types.InlineKeyboardButton(text=\"Instagram\", url=\"https://www.instagram.com\")\n",
        " key.add(instaButton)\n",
        " twitterButton = types.InlineKeyboardButton(text=\"Twitter\", url=\"https://twitter.com\")\n",
        " key.add(twitterButton)\n",
        "\n",
        " bot.send_message(id,\"حساباتنا:\", reply_markup=key)\n",
        "\n",
        "def hobby(id):\n",
        " bot.send_message(id, \"هواياتنا:\")\n",
        " bot.send_message(id, \"هواياتنا كثيره وعديده ولكن من اهمها البرمجه والسباحه\")\n",
        " bot.send_photo(id, photo=open(r\"/content/Media/Future_of_AI/python.png\", \"rb\"))\n",
        "\n",
        "def goals(id):\n",
        " bot.send_message(id, \"اهدافنا هي:\"\n",
        " \"\\n1- ان نكون من افضل مبرمجي بوتات التيلقرام بأستخدام لغة بايثون.\"\n",
        " \"\\n2- لنعرف الناس عنا، من نحن وماهي اهدافنا.\"\n",
        " \"\\n3- ان نستفيد من برمجة بوتات التيلقرام وإنشاء متجر متخصص ببيع بوتات التيلقرام.\")\n",
        "\n",
        "@bot.message_handler(commands=[\"start\", \"ابدا\"])\n",
        "def replay(m):\n",
        " key= types.InlineKeyboardMarkup()\n",
        " button1 = types.InlineKeyboardButton(text=\"من نحن 🤔\", callback_data=\"Who\")\n",
        " key.add(button1)\n",
        "\n",
        " button2 = types.InlineKeyboardButton(text=\"حساباتنا على وسائل 📱\", callback_data=\"Socials\")\n",
        " key.add(button2)\n",
        "\n",
        " button3 = types.InlineKeyboardButton(text=\"هواياتنا 🏊‍♂️\", callback_data=\"Hobby\")\n",
        " key.add(button3)\n",
        "\n",
        " button4 = types.InlineKeyboardButton(text=\"اهدافنا ✅\", callback_data=\"Goals\")\n",
        " key.add(button4)\n",
        "\n",
        " bot.send_message(m.from_user.id, \"إختر احد الخيارات الآتيه:\", reply_markup=key)\n",
        "\n",
        "items=[\"Who\", \"Socials\", \"Hobby\", \"Goals\"]\n",
        "@bot.callback_query_handler(func=lambda i: True if http://i.data in items else False)\n",
        "def check(message):\n",
        " if(http://message.data ==\"Who\"):\n",
        "    us(message.from_user.id)\n",
        " elif( http://message.data == \"Socials\"):\n",
        "    socials(message.from_user.id)\n",
        " elif(http://message.data == \"Hobby\"):\n",
        "    hobby(message.from_user.id)\n",
        " elif(http://message.data == \"Goals\"):\n",
        "    goals(message.from_user.id)\n",
        "\n",
        "replay(message)\n",
        "\n",
        "bot.infinity_polling()"
      ],
      "metadata": {
        "id": "zAyCo8CcDcFY"
      },
      "execution_count": null,
      "outputs": []
    }
  ]
}